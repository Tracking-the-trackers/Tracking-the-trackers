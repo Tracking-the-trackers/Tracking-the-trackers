{
  "nbformat": 4,
  "nbformat_minor": 0,
  "metadata": {
    "colab": {
      "name": "websci21_openWPM_tutorial.ipynb",
      "provenance": [],
      "collapsed_sections": []
    },
    "kernelspec": {
      "name": "python3",
      "display_name": "Python 3"
    },
    "language_info": {
      "name": "python"
    }
  },
  "cells": [
    {
      "cell_type": "markdown",
      "metadata": {
        "id": "xuKsTO87sd8c"
      },
      "source": [
        "*Hello, here we will use the exported data from OpenWPM and perform some basic analysis.* This analysis notebook has two case studies.\n",
        "\n",
        "0. List tables from OpenWPM crawls\n",
        "1.   Comparing cookies across news websites in multiple countries.\n",
        "2.   Comparing cookies across various artificial personas.\n",
        "\n",
        "NOTE: Before running this, please make a local copy of this notebook in your drive, or else the changes you made will 'not' be save. To save file follow:\n",
        "File (top left)--> Save a copy in drive--> Now run!"
      ]
    },
    {
      "cell_type": "code",
      "metadata": {
        "id": "J_g9r7Jo5c3-"
      },
      "source": [
        "###############\n",
        "\n",
        "#NOTE: Before running this, please make a local copy of this notebook in your drive. \n",
        "#Follow: File (top left)--> Save a copy in drive--> Open the newly created collab in new Tab--> Now run!\n",
        "\n",
        "########"
      ],
      "execution_count": null,
      "outputs": []
    },
    {
      "cell_type": "code",
      "metadata": {
        "id": "oP42avgh0aQS"
      },
      "source": [
        "#import libraries\n",
        "import pandas as pd\n",
        "import numpy as np\n",
        "import matplotlib.pyplot as plt\n",
        "import sqlite3\n",
        "import json\n"
      ],
      "execution_count": null,
      "outputs": []
    },
    {
      "cell_type": "code",
      "metadata": {
        "id": "oRQ9sz1u-op9"
      },
      "source": [
        "#Download files for analysis\n",
        "!git clone https://github.com/Tracking-the-trackers/Tracking-the-trackers.github.io.git\n"
      ],
      "execution_count": null,
      "outputs": []
    },
    {
      "cell_type": "code",
      "metadata": {
        "id": "BSGLbYcVGiJY"
      },
      "source": [
        "#check the downloaded file in the local space\n",
        "!ls Tracking-the-trackers.github.io/openWPM/database"
      ],
      "execution_count": null,
      "outputs": []
    },
    {
      "cell_type": "code",
      "metadata": {
        "id": "sUEFTJRQ-8nb"
      },
      "source": [
        "#read the database file\n",
        "filename=\"Tracking-the-trackers.github.io/openWPM/database/crawl-data.sqlite\"\n",
        "connection = sqlite3.connect(filename)\n",
        "cursor = connection.cursor()\n",
        "#show all tables names\n",
        "print(cursor.execute(\"SELECT name FROM sqlite_master WHERE type='table';\"))\n",
        "print(cursor.fetchall())"
      ],
      "execution_count": null,
      "outputs": []
    },
    {
      "cell_type": "code",
      "metadata": {
        "id": "VuW6qvX1GxED"
      },
      "source": [
        "#checking cookies\n",
        "table=pd.read_sql_query(\"SELECT * from javascript_cookies\",connection)\n",
        "table.head()"
      ],
      "execution_count": null,
      "outputs": []
    },
    {
      "cell_type": "code",
      "metadata": {
        "id": "4vLZgWzn_KoE"
      },
      "source": [
        "#counting cookies\n",
        "table['visit_id'].value_counts()"
      ],
      "execution_count": null,
      "outputs": []
    },
    {
      "cell_type": "code",
      "metadata": {
        "id": "pg-ZAtYyTk6S"
      },
      "source": [
        "#check websites visit ids\n",
        "table=pd.read_sql_query(\"SELECT * from site_visits\",connection)\n",
        "table"
      ],
      "execution_count": null,
      "outputs": []
    },
    {
      "cell_type": "markdown",
      "metadata": {
        "id": "xuIooGWyTFa9"
      },
      "source": [
        "###Case study 1: Comparing cookies across news websites in multiple countries.#####\n",
        "- In this study we take cookies logs from USA and Indian news websites\n",
        "- We then plot number of cookies per website in a box plots per country."
      ]
    },
    {
      "cell_type": "code",
      "metadata": {
        "id": "XIYaU2b4se1t"
      },
      "source": [
        "\n",
        "#Read files\n",
        "cookiesUSA=pd.read_csv(\"Tracking-the-trackers.github.io/openWPM/WebsitLists/CookiesUSA.zip\")\n",
        "cookiesUSA.head()"
      ],
      "execution_count": null,
      "outputs": []
    },
    {
      "cell_type": "code",
      "metadata": {
        "id": "nciI6JTT0JBg"
      },
      "source": [
        "#count cookies\n",
        "cookiesUSACounts=cookiesUSA[\"visit_id\"].value_counts()\n",
        "cookiesUSACounts\n"
      ],
      "execution_count": null,
      "outputs": []
    },
    {
      "cell_type": "code",
      "metadata": {
        "id": "GAwAvlUo0JSj"
      },
      "source": [
        "cookiesIndia=pd.read_csv(\"Tracking-the-trackers.github.io/openWPM/WebsitLists/CookiesIndia.zip\")\n",
        "print(cookiesIndia.head())\n",
        "cookiesIndiaCounts=cookiesIndia[\"MedianCookies\"]\n",
        "print(\"-------------\")\n",
        "cookiesIndiaCounts"
      ],
      "execution_count": null,
      "outputs": []
    },
    {
      "cell_type": "code",
      "metadata": {
        "id": "UxEjJbwz0JZV"
      },
      "source": [
        "#plots\n",
        "data1 = cookiesIndiaCounts\n",
        "data2 = cookiesUSACounts\n",
        "data=[data1,data2]\n",
        "\n",
        "fig = plt.figure(figsize =(6, 4))\n",
        "# Creating plot\n",
        "plt.boxplot(data,showfliers=False)\n",
        "plt.xticks([1, 2], ['India', 'USA'])\n",
        "plt.ylabel(\"Number of Cookies\")\n",
        "# show plot\n",
        "plt.show()"
      ],
      "execution_count": null,
      "outputs": []
    },
    {
      "cell_type": "markdown",
      "metadata": {
        "id": "uMwb0aY1Tdfj"
      },
      "source": [
        "###Case study 2: Comparing cookies acrros various artificial personas.######\n",
        "- We again read the cookies per website. This time we show cookies counts as recorded in the stateful crawl.\n",
        "- For each persona we show the cumulative cookies counts in consecutive website visits.\n"
      ]
    },
    {
      "cell_type": "code",
      "metadata": {
        "id": "xhzPpFMg0B3B"
      },
      "source": [
        "\n",
        "#Read files\n",
        "personaCookies=pd.read_csv(\"Tracking-the-trackers.github.io/openWPM/WebsitLists/PersonaCookies.zip\")\n",
        "personaCookies.head()"
      ],
      "execution_count": null,
      "outputs": []
    },
    {
      "cell_type": "code",
      "metadata": {
        "id": "OTCTrfzt0FQR"
      },
      "source": [
        "#plot using pandas in-built function\n",
        "df = personaCookies[[\"Men\",\"Women\"]]\n",
        "df.head()\n",
        "lines = df.plot.line()\n",
        "lines.set_ylabel(\"Number of Cookies\")"
      ],
      "execution_count": null,
      "outputs": []
    },
    {
      "cell_type": "code",
      "metadata": {
        "id": "DoY5l2ghbJjw"
      },
      "source": [
        "#Happy learning!!!"
      ],
      "execution_count": null,
      "outputs": []
    },
    {
      "cell_type": "code",
      "metadata": {
        "id": "u3fJ76CNMGY2"
      },
      "source": [
        ""
      ],
      "execution_count": null,
      "outputs": []
    }
  ]
}